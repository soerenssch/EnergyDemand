{
 "cells": [
  {
   "cell_type": "code",
   "execution_count": 6,
   "id": "e3fd49a5-06f0-4597-bc03-bfe76c4596f2",
   "metadata": {
    "tags": []
   },
   "outputs": [],
   "source": [
    "import pandas as pd\n",
    "import matplotlib.pyplot as plt\n",
    "from sklearn.metrics import mean_squared_error"
   ]
  },
  {
   "cell_type": "markdown",
   "id": "ee51b621",
   "metadata": {},
   "source": [
    "This SARIMAX model accounts for the seasonality in our data as well as the exogenous weather data. It's disadvantage is the models' complexity and the training time needed."
   ]
  },
  {
   "cell_type": "code",
   "execution_count": 7,
   "id": "ef0c007c-6d47-4dfa-a2f2-6918ad2bd141",
   "metadata": {
    "tags": []
   },
   "outputs": [],
   "source": [
    "data = pd.read_pickle('../00_Data/data_full_with_holiday.pkl')"
   ]
  },
  {
   "cell_type": "code",
   "execution_count": 8,
   "id": "6df4f27a-e8d1-49b2-b1d3-d00669845d36",
   "metadata": {
    "tags": []
   },
   "outputs": [],
   "source": [
    "data_train = data.loc[data.index < '2023-10-30']\n",
    "data_test = data.loc[data.index >= '2023-10-30']"
   ]
  },
  {
   "cell_type": "code",
   "execution_count": 9,
   "id": "c21b2a9d-cc0f-46a7-af1e-627fc771d4d0",
   "metadata": {
    "tags": []
   },
   "outputs": [],
   "source": [
    "X_train = data_train.drop('demand', axis=1)\n",
    "X_test = data_test.drop('demand', axis=1)\n",
    "X_train['is_holiday'] = X_train['is_holiday'].astype(int)\n",
    "X_test['is_holiday'] = X_test['is_holiday'].astype(int)\n",
    "\n",
    "y_train = data_train['demand']\n",
    "y_train.name = 'Actual demand (train)'\n",
    "y_test = data_test['demand']\n",
    "y_test.name = 'Actual demand (test)'"
   ]
  },
  {
   "cell_type": "markdown",
   "id": "1b3179bb-8166-461b-96a1-bdd54a7cd7af",
   "metadata": {
    "tags": []
   },
   "source": [
    "# Model Implementation"
   ]
  },
  {
   "cell_type": "code",
   "execution_count": 12,
   "id": "ad5d5180",
   "metadata": {},
   "outputs": [],
   "source": [
    "import pmdarima as pm"
   ]
  },
  {
   "cell_type": "code",
   "execution_count": 13,
   "id": "d213c514",
   "metadata": {},
   "outputs": [
    {
     "name": "stdout",
     "output_type": "stream",
     "text": [
      "Performing stepwise search to minimize aic\n"
     ]
    }
   ],
   "source": [
    "sarimax_model = pm.auto_arima(y_train, X_train=X_train, seasonal=True, m=48,\n",
    "                              trace=True, error_action='ignore',  \n",
    "                              suppress_warnings=True, stepwise=True, \n",
    "                              test='adf')\n",
    "\n",
    "print(sarimax_model.summary())"
   ]
  },
  {
   "cell_type": "markdown",
   "id": "40945f42-6e74-4f99-a51a-07e37bd4e2ab",
   "metadata": {},
   "source": [
    "## Prediction"
   ]
  },
  {
   "cell_type": "code",
   "execution_count": null,
   "id": "5471999d-159b-4c23-8f3c-113855374e8d",
   "metadata": {
    "tags": []
   },
   "outputs": [],
   "source": [
    "y_pred = sarimax_model.predict(X_test)"
   ]
  },
  {
   "cell_type": "markdown",
   "id": "f6f41c22-632a-4e00-b012-2f2d395b1aef",
   "metadata": {
    "tags": []
   },
   "source": [
    "## Prediction Statistics"
   ]
  },
  {
   "cell_type": "code",
   "execution_count": null,
   "id": "bfc5dcad-8e82-4d33-bc94-412168120cc8",
   "metadata": {
    "tags": []
   },
   "outputs": [],
   "source": [
    "y_pred_s = pd.Series(y_pred, index=y_test.index, name='Predicted demand (test)')"
   ]
  },
  {
   "cell_type": "markdown",
   "id": "84e772d6-560c-4371-9879-1b7592ab4984",
   "metadata": {},
   "source": [
    "### 24 Hours Forecast"
   ]
  },
  {
   "cell_type": "code",
   "execution_count": null,
   "id": "159922c5-1876-4240-8a18-b1f10f105668",
   "metadata": {
    "tags": []
   },
   "outputs": [],
   "source": [
    "y_pred_48 = y_pred_s.iloc[:48]\n",
    "y_test_48 = y_test.iloc[:48]"
   ]
  },
  {
   "cell_type": "code",
   "execution_count": null,
   "id": "2f1a2c4c",
   "metadata": {},
   "outputs": [],
   "source": [
    "fig, ax = plt.subplots()\n",
    "y_test_48.plot(ax=ax)\n",
    "y_pred_48.plot(ax=ax)\n",
    "ax.legend()\n",
    "ax.set_title('24 Hours Forecast')\n",
    "ax.set_xlabel(\"Date\")\n",
    "ax.set_ylabel(\"National demand\")\n",
    "plt.show()"
   ]
  },
  {
   "cell_type": "code",
   "execution_count": null,
   "id": "588c64fd",
   "metadata": {},
   "outputs": [],
   "source": [
    "print(f'RMSE for 24 hours: {mean_squared_error(y_test_48, y_pred_48, squared=False)}')"
   ]
  },
  {
   "cell_type": "markdown",
   "id": "a9dff4d1-e770-4d96-b44f-2cb05eba5dff",
   "metadata": {
    "tags": []
   },
   "source": [
    "### 7 Days Prediction"
   ]
  },
  {
   "cell_type": "code",
   "execution_count": null,
   "id": "d0a299e6-7fa4-4f39-b7a3-0af242b646ad",
   "metadata": {
    "tags": []
   },
   "outputs": [],
   "source": [
    "y_pred_336 = y_pred_s.iloc[:336]\n",
    "y_test_336 = y_test.iloc[:336]"
   ]
  },
  {
   "cell_type": "code",
   "execution_count": null,
   "id": "8c8ebb43",
   "metadata": {},
   "outputs": [],
   "source": [
    "fig, ax = plt.subplots()\n",
    "y_test_336.plot(ax=ax)\n",
    "y_pred_336.plot(ax=ax)\n",
    "ax.legend()\n",
    "ax.set_title('7 Days Forecast')\n",
    "ax.set_xlabel(\"Date\")\n",
    "ax.set_ylabel(\"National demand\")\n",
    "plt.show()"
   ]
  },
  {
   "cell_type": "code",
   "execution_count": null,
   "id": "bfde93ea",
   "metadata": {},
   "outputs": [],
   "source": [
    "print(f'RMSE for 7 days: {mean_squared_error(y_test_336, y_pred_336, squared=False)}')"
   ]
  },
  {
   "cell_type": "markdown",
   "id": "5ece5091-09f1-4958-8e16-cdc9c5e382fa",
   "metadata": {},
   "source": [
    "### 28 Days Prediction"
   ]
  },
  {
   "cell_type": "code",
   "execution_count": null,
   "id": "e354ba94-83fb-45b1-8281-78bd3446fe77",
   "metadata": {
    "tags": []
   },
   "outputs": [],
   "source": [
    "y_pred_1344 = y_pred_s.iloc[:1344]\n",
    "y_test_1344 = y_test.iloc[:1344]"
   ]
  },
  {
   "cell_type": "code",
   "execution_count": null,
   "id": "fcac1877",
   "metadata": {},
   "outputs": [],
   "source": [
    "fig, ax = plt.subplots()\n",
    "y_test_1344.plot(ax=ax)\n",
    "y_pred_1344.plot(ax=ax)\n",
    "ax.legend()\n",
    "ax.set_title('28 Days Forecast')\n",
    "ax.set_xlabel(\"Date\")\n",
    "ax.set_ylabel(\"National demand\")\n",
    "plt.show()"
   ]
  },
  {
   "cell_type": "code",
   "execution_count": null,
   "id": "507665b2-de9f-4ee3-867e-9e07b02a08f1",
   "metadata": {},
   "outputs": [],
   "source": [
    "print(f'RMSE for 28 days: {mean_squared_error(y_test_1344, y_pred_1344, squared=False)}')"
   ]
  }
 ],
 "metadata": {
  "kernelspec": {
   "display_name": "Python 3 (ipykernel)",
   "language": "python",
   "name": "python3"
  },
  "language_info": {
   "codemirror_mode": {
    "name": "ipython",
    "version": 3
   },
   "file_extension": ".py",
   "mimetype": "text/x-python",
   "name": "python",
   "nbconvert_exporter": "python",
   "pygments_lexer": "ipython3",
   "version": "3.10.9"
  }
 },
 "nbformat": 4,
 "nbformat_minor": 5
}

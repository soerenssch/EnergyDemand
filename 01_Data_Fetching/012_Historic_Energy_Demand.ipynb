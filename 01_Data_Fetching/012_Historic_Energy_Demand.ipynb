{
 "cells": [
  {
   "cell_type": "markdown",
   "id": "5cadf085-a4c3-44a7-b156-8bfd323dd0e3",
   "metadata": {},
   "source": [
    "# Fetch Historic Energy Demand for Benchmarking & Training"
   ]
  },
  {
   "cell_type": "code",
   "execution_count": null,
   "id": "3c46ca1e-77ed-49de-807d-e68acbd98ffb",
   "metadata": {},
   "outputs": [],
   "source": [
    "import sys\n",
    "!{sys.executable} -m pip install git+https://github.com/tomharvey/ElexonDataPortal.git@pandas-version-tz-compare"
   ]
  },
  {
   "cell_type": "code",
   "execution_count": 1,
   "id": "797a498b-bc53-4902-ad24-2a4811a19cfd",
   "metadata": {
    "tags": []
   },
   "outputs": [],
   "source": [
    "from ElexonDataPortal import api\n",
    "import pandas as pd\n",
    "from secret import api_key\n",
    "from datetime import date, timedelta"
   ]
  },
  {
   "cell_type": "code",
   "execution_count": 2,
   "id": "40e04253-59b6-4fa5-adda-ab90f80877c5",
   "metadata": {
    "tags": []
   },
   "outputs": [],
   "source": [
    "client = api.Client(api_key)"
   ]
  },
  {
   "cell_type": "code",
   "execution_count": 3,
   "id": "85f61329-89a4-4d17-9014-1fad4b04a8e4",
   "metadata": {
    "tags": []
   },
   "outputs": [
    {
     "data": {
      "text/plain": [
       "get_B0610                                    Actual Total Load per Bidding Zone\n",
       "get_B0620                        Day-Ahead Total Load Forecast per Bidding Zone\n",
       "get_B0630                       Week-Ahead Total Load Forecast per Bidding Zone\n",
       "get_B0640                      Month-Ahead Total Load Forecast Per Bidding Zone\n",
       "get_B0650                       Year Ahead Total Load Forecast per Bidding Zone\n",
       "get_B0710                           Planned Unavailability of Consumption Units\n",
       "get_B0720                     Changes In Actual Availability Of Consumption ...\n",
       "get_B0810                                            Year Ahead Forecast Margin\n",
       "get_B0910                                    Expansion and Dismantling Projects\n",
       "get_B1010                       Planned Unavailability In The Transmission Grid\n",
       "get_B1020                     Changes In Actual Availability In The Transmis...\n",
       "get_B1030                     Changes In Actual Availability of Offshore Gri...\n",
       "get_B1320                         Congestion Management Measures Countertrading\n",
       "get_B1330                     Congestion Management Measures Costs of Conges...\n",
       "get_B1410                              Installed Generation Capacity Aggregated\n",
       "get_B1420                                Installed Generation Capacity per Unit\n",
       "get_B1430                                       Day-Ahead Aggregated Generation\n",
       "get_B1440                               Generation forecasts for Wind and Solar\n",
       "get_B1510                            Planned Unavailability of Generation Units\n",
       "get_B1520                     Changes In Actual Availability of Generation U...\n",
       "get_B1530                            Planned Unavailability of Production Units\n",
       "get_B1540                     Changes In Actual Availability of Production U...\n",
       "get_B1610                          Actual Generation Output per Generation Unit\n",
       "get_B1620                                 Actual Aggregated Generation per Type\n",
       "get_B1630                     Actual Or Estimated Wind and Solar Power Gener...\n",
       "get_B1720                     Amount Of Balancing Reserves Under Contract Se...\n",
       "get_B1730                         Prices Of Procured Balancing Reserves Service\n",
       "get_B1740                                            Accepted Aggregated Offers\n",
       "get_B1750                                            Activated Balancing Energy\n",
       "get_B1760                                  Prices Of Activated Balancing Energy\n",
       "get_B1770                                                      Imbalance Prices\n",
       "get_B1780                                          Aggregated Imbalance Volumes\n",
       "get_B1790                           Financial Expenses and Income For Balancing\n",
       "get_B1810                     Cross-Border Balancing Volumes of Exchanged Bi...\n",
       "get_B1820                                         Cross-Border Balancing Prices\n",
       "get_B1830                               Cross-border Balancing Energy Activated\n",
       "get_BOD                                                    Bid Offer Level Data\n",
       "get_CDN                                              Credit Default Notice Data\n",
       "get_DERSYSDATA                                  5.2.43 Derived System Wide Data\n",
       "get_DETSYSPRICES                                         Detailed System Prices\n",
       "get_DEVINDOD                                           Daily Energy Volume Data\n",
       "get_DISBSAD                           Balancing Services Adjustment Action Data\n",
       "get_FORDAYDEM                            Forecast Day and Day Ahead Demand Data\n",
       "get_FREQ                                               Rolling System Frequency\n",
       "get_FUELHH                          Half Hourly Outturn Generation by Fuel Type\n",
       "get_LOLPDRM                        Loss of Load Probability and De-rated Margin\n",
       "get_MELIMBALNGC               Forecast Day and Day Ahead Margin and Imbalanc...\n",
       "get_MID                                                       Market Index Data\n",
       "get_MessageDetailRetrieval                  REMIT Flow - Message List Retrieval\n",
       "get_MessageListRetrieval                    REMIT Flow - Message List Retrieval\n",
       "get_NETBSAD                                   Balancing Service Adjustment Data\n",
       "get_NONBM                                    Non BM STOR Instructed Volume Data\n",
       "get_PHYBMDATA                                                     Physical Data\n",
       "get_ROLSYSDEM                                      5.2.12 Rolling System Demand\n",
       "get_SYSDEM                                                        System Demand\n",
       "get_SYSWARN                                                     System Warnings\n",
       "get_TEMP                                                       Temperature Data\n",
       "get_WINDFORFUELHH                    Wind Generation Forecast and Out-turn Data\n",
       "dtype: object"
      ]
     },
     "execution_count": 3,
     "metadata": {},
     "output_type": "execute_result"
    }
   ],
   "source": [
    "# Data Available\n",
    "pd.Series(client.methods)"
   ]
  },
  {
   "cell_type": "code",
   "execution_count": null,
   "id": "f094b179-9325-490f-ab97-fc33a84fb71e",
   "metadata": {},
   "outputs": [],
   "source": [
    "# Fetch Benchmarking Dataset\n",
    "dfs = []\n",
    "current_date = date(2023, 11, 30)\n",
    "target_date = date(2020, 11, 30)\n",
    "while current_date > target_date:\n",
    "    new_date = current_date - timedelta(weeks=4)\n",
    "    dfs.append(client.get_SYSDEM(new_date, current_date))\n",
    "    current_date = new_date"
   ]
  },
  {
   "cell_type": "code",
   "execution_count": null,
   "id": "6d0e580e-70d2-48e6-b665-be9e79085de5",
   "metadata": {},
   "outputs": [],
   "source": [
    "df_full = pd.concat(dfs)\n",
    "df_full.index = pd.to_datetime(df_full['local_datetime'])\n",
    "df_full = df_full.loc[df_full['recordType'] == 'ITSDO']\n",
    "s_full = df_full['demand'].astype('float64')\n",
    "new_date_index = pd.date_range(start='2020-12-01', end='2023-11-30', freq='30T', tz='UTC')\n",
    "s_full_wo_duplicate = s_full.loc[~s_full.index.duplicated(keep='first')]\n",
    "s_reindex = s_full_wo_duplicate.reindex(new_date_index)\n",
    "s_reindex_interp = s_reindex.interpolate(method='linear')"
   ]
  },
  {
   "cell_type": "code",
   "execution_count": null,
   "id": "a544ec54-3b28-4f63-a3dc-98da08c6246c",
   "metadata": {},
   "outputs": [],
   "source": [
    "s_reindex_interp.to_pickle('../00_Data/historic_demand.pkl')"
   ]
  }
 ],
 "metadata": {
  "kernelspec": {
   "display_name": "Python 3 (ipykernel)",
   "language": "python",
   "name": "python3"
  },
  "language_info": {
   "codemirror_mode": {
    "name": "ipython",
    "version": 3
   },
   "file_extension": ".py",
   "mimetype": "text/x-python",
   "name": "python",
   "nbconvert_exporter": "python",
   "pygments_lexer": "ipython3",
   "version": "3.11.6"
  }
 },
 "nbformat": 4,
 "nbformat_minor": 5
}

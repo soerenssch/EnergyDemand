{
 "cells": [
  {
   "cell_type": "markdown",
   "id": "258db5ea-d48b-4771-a097-269dc72396d0",
   "metadata": {},
   "source": [
    "# Merge Historical Data and Historical Weather"
   ]
  },
  {
   "cell_type": "code",
   "execution_count": 1,
   "id": "5b080865-325e-4f7f-994e-e19b649b9033",
   "metadata": {},
   "outputs": [],
   "source": [
    "import pandas as pd\n",
    "import holidays\n",
    "from datetime import date"
   ]
  },
  {
   "cell_type": "code",
   "execution_count": 3,
   "id": "a1aa058d-c883-458b-9dc0-513807031e45",
   "metadata": {
    "tags": []
   },
   "outputs": [],
   "source": [
    "weather_df = pd.read_csv('../00_Data/external/historical_weather_bulk.csv')"
   ]
  },
  {
   "cell_type": "code",
   "execution_count": 4,
   "id": "281e4b2e-c1a9-4df3-877c-1d684edaf3ec",
   "metadata": {
    "tags": []
   },
   "outputs": [],
   "source": [
    "d_types = {\n",
    "    'lat': 'float64',\n",
    "    'lon': 'float64',\n",
    "    'temp': 'float64',\n",
    "    'pressure': 'float64',\n",
    "    'humidity': 'float64',\n",
    "    'wind_speed': 'float64',\n",
    "    'clouds_all': 'float64',\n",
    "}"
   ]
  },
  {
   "cell_type": "code",
   "execution_count": 5,
   "id": "c818748c-c8d3-4e8c-b84a-93c538776f5b",
   "metadata": {
    "tags": []
   },
   "outputs": [],
   "source": [
    "weather_df.index = pd.to_datetime(weather_df['dt_iso'], format=\"%Y-%m-%d %H:%M:%S %z UTC\")"
   ]
  },
  {
   "cell_type": "code",
   "execution_count": 6,
   "id": "b313e84d-aa1e-4aea-8529-a1925a19baf4",
   "metadata": {
    "tags": []
   },
   "outputs": [],
   "source": [
    "weather_df = weather_df[d_types.keys()].astype(d_types)"
   ]
  },
  {
   "cell_type": "code",
   "execution_count": 7,
   "id": "a2b8b32c-8e18-4371-a7e6-0b2fdfd8cd3e",
   "metadata": {
    "tags": []
   },
   "outputs": [],
   "source": [
    "locations = {\n",
    "    'london': {\n",
    "        'lat': 51.503655,\n",
    "        'lon': -0.105732\n",
    "    },\n",
    "    'liverpool': {\n",
    "        'lat': 53.402859,\n",
    "        'lon': -2.969904\n",
    "    },\n",
    "    'bath': {\n",
    "        'lat': 51.387535,\n",
    "        'lon': -2.373896\n",
    "    }\n",
    "}"
   ]
  },
  {
   "cell_type": "code",
   "execution_count": 8,
   "id": "bcdf5ee9-5f54-431c-bfd7-9a3466273abe",
   "metadata": {
    "tags": []
   },
   "outputs": [],
   "source": [
    "for key, loc in locations.items():\n",
    "    weather_df[key] = (weather_df['lat'] == loc['lat']) & (weather_df['lon'] == loc['lon'])\n",
    "    \n",
    "weather_df['location'] = weather_df[locations.keys()].idxmax(axis=1)\n",
    "weather_df = weather_df.drop(['lat', 'lon'] + list(locations.keys()), axis=1)"
   ]
  },
  {
   "cell_type": "code",
   "execution_count": 9,
   "id": "55be5456-ffba-4aa2-8f1c-e5dc191be3a4",
   "metadata": {
    "tags": []
   },
   "outputs": [],
   "source": [
    "dfs_wo_duplicates = []\n",
    "for loc in locations.keys():\n",
    "    df = weather_df.loc[weather_df['location'] == loc]\n",
    "    dfs_wo_duplicates.append(df.loc[~df.index.duplicated(keep='first')])\n",
    "    \n",
    "df_wo_duplicates = pd.concat(dfs_wo_duplicates)"
   ]
  },
  {
   "cell_type": "code",
   "execution_count": 10,
   "id": "213308a0-e02a-40b3-ad75-bb0e5ac48c35",
   "metadata": {
    "tags": []
   },
   "outputs": [],
   "source": [
    "df_pivot = df_wo_duplicates.pivot(columns='location', values=['temp', 'pressure', 'humidity', 'wind_speed', 'clouds_all'])"
   ]
  },
  {
   "cell_type": "code",
   "execution_count": 11,
   "id": "5d120ae9-2e1b-45d2-82c7-faa06ec098fb",
   "metadata": {
    "tags": []
   },
   "outputs": [],
   "source": [
    "df_pivot.columns = df_pivot.columns.map('_'.join)"
   ]
  },
  {
   "cell_type": "code",
   "execution_count": 12,
   "id": "d9346be8-0dd2-4b93-bc59-afb529b69204",
   "metadata": {
    "tags": []
   },
   "outputs": [
    {
     "data": {
      "text/html": [
       "<div>\n",
       "<style scoped>\n",
       "    .dataframe tbody tr th:only-of-type {\n",
       "        vertical-align: middle;\n",
       "    }\n",
       "\n",
       "    .dataframe tbody tr th {\n",
       "        vertical-align: top;\n",
       "    }\n",
       "\n",
       "    .dataframe thead th {\n",
       "        text-align: right;\n",
       "    }\n",
       "</style>\n",
       "<table border=\"1\" class=\"dataframe\">\n",
       "  <thead>\n",
       "    <tr style=\"text-align: right;\">\n",
       "      <th></th>\n",
       "      <th>temp_bath</th>\n",
       "      <th>temp_liverpool</th>\n",
       "      <th>temp_london</th>\n",
       "      <th>pressure_bath</th>\n",
       "      <th>pressure_liverpool</th>\n",
       "      <th>pressure_london</th>\n",
       "      <th>humidity_bath</th>\n",
       "      <th>humidity_liverpool</th>\n",
       "      <th>humidity_london</th>\n",
       "      <th>wind_speed_bath</th>\n",
       "      <th>wind_speed_liverpool</th>\n",
       "      <th>wind_speed_london</th>\n",
       "      <th>clouds_all_bath</th>\n",
       "      <th>clouds_all_liverpool</th>\n",
       "      <th>clouds_all_london</th>\n",
       "    </tr>\n",
       "    <tr>\n",
       "      <th>dt_iso</th>\n",
       "      <th></th>\n",
       "      <th></th>\n",
       "      <th></th>\n",
       "      <th></th>\n",
       "      <th></th>\n",
       "      <th></th>\n",
       "      <th></th>\n",
       "      <th></th>\n",
       "      <th></th>\n",
       "      <th></th>\n",
       "      <th></th>\n",
       "      <th></th>\n",
       "      <th></th>\n",
       "      <th></th>\n",
       "      <th></th>\n",
       "    </tr>\n",
       "  </thead>\n",
       "  <tbody>\n",
       "    <tr>\n",
       "      <th>2008-01-01 00:00:00+00:00</th>\n",
       "      <td>281.24</td>\n",
       "      <td>281.94</td>\n",
       "      <td>280.27</td>\n",
       "      <td>1026.0</td>\n",
       "      <td>1023.0</td>\n",
       "      <td>1027.0</td>\n",
       "      <td>97.0</td>\n",
       "      <td>94.0</td>\n",
       "      <td>87.0</td>\n",
       "      <td>2.27</td>\n",
       "      <td>5.10</td>\n",
       "      <td>2.10</td>\n",
       "      <td>88.0</td>\n",
       "      <td>40.0</td>\n",
       "      <td>75.0</td>\n",
       "    </tr>\n",
       "    <tr>\n",
       "      <th>2008-01-01 01:00:00+00:00</th>\n",
       "      <td>280.76</td>\n",
       "      <td>282.04</td>\n",
       "      <td>280.58</td>\n",
       "      <td>1026.0</td>\n",
       "      <td>1023.0</td>\n",
       "      <td>1026.0</td>\n",
       "      <td>97.0</td>\n",
       "      <td>94.0</td>\n",
       "      <td>91.0</td>\n",
       "      <td>2.11</td>\n",
       "      <td>5.10</td>\n",
       "      <td>1.00</td>\n",
       "      <td>98.0</td>\n",
       "      <td>100.0</td>\n",
       "      <td>100.0</td>\n",
       "    </tr>\n",
       "    <tr>\n",
       "      <th>2008-01-01 02:00:00+00:00</th>\n",
       "      <td>279.81</td>\n",
       "      <td>282.01</td>\n",
       "      <td>280.52</td>\n",
       "      <td>1025.0</td>\n",
       "      <td>1022.0</td>\n",
       "      <td>1026.0</td>\n",
       "      <td>96.0</td>\n",
       "      <td>92.0</td>\n",
       "      <td>91.0</td>\n",
       "      <td>2.01</td>\n",
       "      <td>5.70</td>\n",
       "      <td>2.10</td>\n",
       "      <td>99.0</td>\n",
       "      <td>100.0</td>\n",
       "      <td>75.0</td>\n",
       "    </tr>\n",
       "    <tr>\n",
       "      <th>2008-01-01 03:00:00+00:00</th>\n",
       "      <td>279.81</td>\n",
       "      <td>281.95</td>\n",
       "      <td>280.57</td>\n",
       "      <td>1025.0</td>\n",
       "      <td>1022.0</td>\n",
       "      <td>1025.0</td>\n",
       "      <td>97.0</td>\n",
       "      <td>92.0</td>\n",
       "      <td>91.0</td>\n",
       "      <td>2.04</td>\n",
       "      <td>5.10</td>\n",
       "      <td>1.50</td>\n",
       "      <td>98.0</td>\n",
       "      <td>40.0</td>\n",
       "      <td>75.0</td>\n",
       "    </tr>\n",
       "    <tr>\n",
       "      <th>2008-01-01 04:00:00+00:00</th>\n",
       "      <td>279.61</td>\n",
       "      <td>281.91</td>\n",
       "      <td>280.39</td>\n",
       "      <td>1024.0</td>\n",
       "      <td>1021.0</td>\n",
       "      <td>1025.0</td>\n",
       "      <td>97.0</td>\n",
       "      <td>92.0</td>\n",
       "      <td>91.0</td>\n",
       "      <td>1.96</td>\n",
       "      <td>4.10</td>\n",
       "      <td>1.50</td>\n",
       "      <td>99.0</td>\n",
       "      <td>100.0</td>\n",
       "      <td>100.0</td>\n",
       "    </tr>\n",
       "    <tr>\n",
       "      <th>...</th>\n",
       "      <td>...</td>\n",
       "      <td>...</td>\n",
       "      <td>...</td>\n",
       "      <td>...</td>\n",
       "      <td>...</td>\n",
       "      <td>...</td>\n",
       "      <td>...</td>\n",
       "      <td>...</td>\n",
       "      <td>...</td>\n",
       "      <td>...</td>\n",
       "      <td>...</td>\n",
       "      <td>...</td>\n",
       "      <td>...</td>\n",
       "      <td>...</td>\n",
       "      <td>...</td>\n",
       "    </tr>\n",
       "    <tr>\n",
       "      <th>2023-12-06 19:00:00+00:00</th>\n",
       "      <td>277.76</td>\n",
       "      <td>275.97</td>\n",
       "      <td>276.32</td>\n",
       "      <td>1015.0</td>\n",
       "      <td>1011.0</td>\n",
       "      <td>1016.0</td>\n",
       "      <td>93.0</td>\n",
       "      <td>90.0</td>\n",
       "      <td>88.0</td>\n",
       "      <td>4.66</td>\n",
       "      <td>5.66</td>\n",
       "      <td>2.06</td>\n",
       "      <td>100.0</td>\n",
       "      <td>75.0</td>\n",
       "      <td>40.0</td>\n",
       "    </tr>\n",
       "    <tr>\n",
       "      <th>2023-12-06 20:00:00+00:00</th>\n",
       "      <td>278.15</td>\n",
       "      <td>276.39</td>\n",
       "      <td>276.45</td>\n",
       "      <td>1013.0</td>\n",
       "      <td>1011.0</td>\n",
       "      <td>1016.0</td>\n",
       "      <td>93.0</td>\n",
       "      <td>90.0</td>\n",
       "      <td>90.0</td>\n",
       "      <td>6.23</td>\n",
       "      <td>5.66</td>\n",
       "      <td>3.09</td>\n",
       "      <td>100.0</td>\n",
       "      <td>75.0</td>\n",
       "      <td>20.0</td>\n",
       "    </tr>\n",
       "    <tr>\n",
       "      <th>2023-12-06 21:00:00+00:00</th>\n",
       "      <td>278.66</td>\n",
       "      <td>276.53</td>\n",
       "      <td>276.87</td>\n",
       "      <td>1013.0</td>\n",
       "      <td>1011.0</td>\n",
       "      <td>1015.0</td>\n",
       "      <td>93.0</td>\n",
       "      <td>90.0</td>\n",
       "      <td>87.0</td>\n",
       "      <td>6.23</td>\n",
       "      <td>5.14</td>\n",
       "      <td>3.60</td>\n",
       "      <td>100.0</td>\n",
       "      <td>75.0</td>\n",
       "      <td>40.0</td>\n",
       "    </tr>\n",
       "    <tr>\n",
       "      <th>2023-12-06 22:00:00+00:00</th>\n",
       "      <td>279.06</td>\n",
       "      <td>276.68</td>\n",
       "      <td>277.26</td>\n",
       "      <td>1013.0</td>\n",
       "      <td>1010.0</td>\n",
       "      <td>1015.0</td>\n",
       "      <td>92.0</td>\n",
       "      <td>92.0</td>\n",
       "      <td>89.0</td>\n",
       "      <td>6.23</td>\n",
       "      <td>5.66</td>\n",
       "      <td>3.09</td>\n",
       "      <td>100.0</td>\n",
       "      <td>75.0</td>\n",
       "      <td>100.0</td>\n",
       "    </tr>\n",
       "    <tr>\n",
       "      <th>2023-12-06 23:00:00+00:00</th>\n",
       "      <td>279.41</td>\n",
       "      <td>276.74</td>\n",
       "      <td>277.20</td>\n",
       "      <td>1011.0</td>\n",
       "      <td>1009.0</td>\n",
       "      <td>1014.0</td>\n",
       "      <td>92.0</td>\n",
       "      <td>93.0</td>\n",
       "      <td>87.0</td>\n",
       "      <td>8.07</td>\n",
       "      <td>7.20</td>\n",
       "      <td>4.12</td>\n",
       "      <td>100.0</td>\n",
       "      <td>75.0</td>\n",
       "      <td>40.0</td>\n",
       "    </tr>\n",
       "  </tbody>\n",
       "</table>\n",
       "<p>139656 rows × 15 columns</p>\n",
       "</div>"
      ],
      "text/plain": [
       "                           temp_bath  temp_liverpool  temp_london  \\\n",
       "dt_iso                                                              \n",
       "2008-01-01 00:00:00+00:00     281.24          281.94       280.27   \n",
       "2008-01-01 01:00:00+00:00     280.76          282.04       280.58   \n",
       "2008-01-01 02:00:00+00:00     279.81          282.01       280.52   \n",
       "2008-01-01 03:00:00+00:00     279.81          281.95       280.57   \n",
       "2008-01-01 04:00:00+00:00     279.61          281.91       280.39   \n",
       "...                              ...             ...          ...   \n",
       "2023-12-06 19:00:00+00:00     277.76          275.97       276.32   \n",
       "2023-12-06 20:00:00+00:00     278.15          276.39       276.45   \n",
       "2023-12-06 21:00:00+00:00     278.66          276.53       276.87   \n",
       "2023-12-06 22:00:00+00:00     279.06          276.68       277.26   \n",
       "2023-12-06 23:00:00+00:00     279.41          276.74       277.20   \n",
       "\n",
       "                           pressure_bath  pressure_liverpool  pressure_london  \\\n",
       "dt_iso                                                                          \n",
       "2008-01-01 00:00:00+00:00         1026.0              1023.0           1027.0   \n",
       "2008-01-01 01:00:00+00:00         1026.0              1023.0           1026.0   \n",
       "2008-01-01 02:00:00+00:00         1025.0              1022.0           1026.0   \n",
       "2008-01-01 03:00:00+00:00         1025.0              1022.0           1025.0   \n",
       "2008-01-01 04:00:00+00:00         1024.0              1021.0           1025.0   \n",
       "...                                  ...                 ...              ...   \n",
       "2023-12-06 19:00:00+00:00         1015.0              1011.0           1016.0   \n",
       "2023-12-06 20:00:00+00:00         1013.0              1011.0           1016.0   \n",
       "2023-12-06 21:00:00+00:00         1013.0              1011.0           1015.0   \n",
       "2023-12-06 22:00:00+00:00         1013.0              1010.0           1015.0   \n",
       "2023-12-06 23:00:00+00:00         1011.0              1009.0           1014.0   \n",
       "\n",
       "                           humidity_bath  humidity_liverpool  humidity_london  \\\n",
       "dt_iso                                                                          \n",
       "2008-01-01 00:00:00+00:00           97.0                94.0             87.0   \n",
       "2008-01-01 01:00:00+00:00           97.0                94.0             91.0   \n",
       "2008-01-01 02:00:00+00:00           96.0                92.0             91.0   \n",
       "2008-01-01 03:00:00+00:00           97.0                92.0             91.0   \n",
       "2008-01-01 04:00:00+00:00           97.0                92.0             91.0   \n",
       "...                                  ...                 ...              ...   \n",
       "2023-12-06 19:00:00+00:00           93.0                90.0             88.0   \n",
       "2023-12-06 20:00:00+00:00           93.0                90.0             90.0   \n",
       "2023-12-06 21:00:00+00:00           93.0                90.0             87.0   \n",
       "2023-12-06 22:00:00+00:00           92.0                92.0             89.0   \n",
       "2023-12-06 23:00:00+00:00           92.0                93.0             87.0   \n",
       "\n",
       "                           wind_speed_bath  wind_speed_liverpool  \\\n",
       "dt_iso                                                             \n",
       "2008-01-01 00:00:00+00:00             2.27                  5.10   \n",
       "2008-01-01 01:00:00+00:00             2.11                  5.10   \n",
       "2008-01-01 02:00:00+00:00             2.01                  5.70   \n",
       "2008-01-01 03:00:00+00:00             2.04                  5.10   \n",
       "2008-01-01 04:00:00+00:00             1.96                  4.10   \n",
       "...                                    ...                   ...   \n",
       "2023-12-06 19:00:00+00:00             4.66                  5.66   \n",
       "2023-12-06 20:00:00+00:00             6.23                  5.66   \n",
       "2023-12-06 21:00:00+00:00             6.23                  5.14   \n",
       "2023-12-06 22:00:00+00:00             6.23                  5.66   \n",
       "2023-12-06 23:00:00+00:00             8.07                  7.20   \n",
       "\n",
       "                           wind_speed_london  clouds_all_bath  \\\n",
       "dt_iso                                                          \n",
       "2008-01-01 00:00:00+00:00               2.10             88.0   \n",
       "2008-01-01 01:00:00+00:00               1.00             98.0   \n",
       "2008-01-01 02:00:00+00:00               2.10             99.0   \n",
       "2008-01-01 03:00:00+00:00               1.50             98.0   \n",
       "2008-01-01 04:00:00+00:00               1.50             99.0   \n",
       "...                                      ...              ...   \n",
       "2023-12-06 19:00:00+00:00               2.06            100.0   \n",
       "2023-12-06 20:00:00+00:00               3.09            100.0   \n",
       "2023-12-06 21:00:00+00:00               3.60            100.0   \n",
       "2023-12-06 22:00:00+00:00               3.09            100.0   \n",
       "2023-12-06 23:00:00+00:00               4.12            100.0   \n",
       "\n",
       "                           clouds_all_liverpool  clouds_all_london  \n",
       "dt_iso                                                              \n",
       "2008-01-01 00:00:00+00:00                  40.0               75.0  \n",
       "2008-01-01 01:00:00+00:00                 100.0              100.0  \n",
       "2008-01-01 02:00:00+00:00                 100.0               75.0  \n",
       "2008-01-01 03:00:00+00:00                  40.0               75.0  \n",
       "2008-01-01 04:00:00+00:00                 100.0              100.0  \n",
       "...                                         ...                ...  \n",
       "2023-12-06 19:00:00+00:00                  75.0               40.0  \n",
       "2023-12-06 20:00:00+00:00                  75.0               20.0  \n",
       "2023-12-06 21:00:00+00:00                  75.0               40.0  \n",
       "2023-12-06 22:00:00+00:00                  75.0              100.0  \n",
       "2023-12-06 23:00:00+00:00                  75.0               40.0  \n",
       "\n",
       "[139656 rows x 15 columns]"
      ]
     },
     "execution_count": 12,
     "metadata": {},
     "output_type": "execute_result"
    }
   ],
   "source": [
    "df_pivot"
   ]
  },
  {
   "cell_type": "code",
   "execution_count": 16,
   "id": "c4c639c9-948d-46bb-b0f3-a5e91f13ad70",
   "metadata": {
    "tags": []
   },
   "outputs": [],
   "source": [
    "historical_demand_series = pd.read_pickle('../00_Data/historic_demand.pkl')"
   ]
  },
  {
   "cell_type": "code",
   "execution_count": 17,
   "id": "4d4efed5-71cf-49ce-898b-52faf4b4695c",
   "metadata": {
    "tags": []
   },
   "outputs": [],
   "source": [
    "df_reindexed = df_pivot.reindex(historical_demand_series.index)"
   ]
  },
  {
   "cell_type": "code",
   "execution_count": 18,
   "id": "92b92be4-3c2c-432f-8ae8-0ce8850dac9d",
   "metadata": {
    "tags": []
   },
   "outputs": [
    {
     "data": {
      "text/plain": [
       "<Axes: >"
      ]
     },
     "execution_count": 18,
     "metadata": {},
     "output_type": "execute_result"
    },
    {
     "data": {
      "image/png": "[encoded data removed]",
      "text/plain": [
       "<Figure size 640x480 with 1 Axes>"
      ]
     },
     "metadata": {},
     "output_type": "display_data"
    }
   ],
   "source": [
    "df_reindexed['temp_london'].loc[df_reindexed.index > '2023-11-29'].dropna().plot()"
   ]
  },
  {
   "cell_type": "code",
   "execution_count": 19,
   "id": "8b9a68ea-6208-4050-af06-90f5d52f999d",
   "metadata": {
    "tags": []
   },
   "outputs": [],
   "source": [
    "df_interpolated = df_reindexed.interpolate(method='time')"
   ]
  },
  {
   "cell_type": "code",
   "execution_count": 20,
   "id": "63588588-7953-4c08-9b92-22cba85e0b66",
   "metadata": {
    "tags": []
   },
   "outputs": [],
   "source": [
    "df_final = pd.concat([s, df_interpolated], axis=1)"
   ]
  },
  {
   "cell_type": "code",
   "execution_count": null,
   "id": "e0858b6f-a072-4f25-8f7c-d72232bfaebb",
   "metadata": {},
   "outputs": [],
   "source": [
    "df_final.to_pickle('../00_Data/data_full.pkl')"
   ]
  },
  {
   "cell_type": "markdown",
   "id": "5b9c3442-f44b-4a3a-8c31-41a152cc402d",
   "metadata": {},
   "source": [
    "## Add UK Holidays to DF"
   ]
  },
  {
   "cell_type": "code",
   "execution_count": 22,
   "id": "a934c222-3cd4-4044-b8ff-75cfec0647d4",
   "metadata": {
    "tags": []
   },
   "outputs": [],
   "source": [
    "is_holiday = list(map( lambda x: x in holidays.GB(), df_final.index.date))"
   ]
  },
  {
   "cell_type": "code",
   "execution_count": 313,
   "id": "4b125c42-71f4-4dbe-b23b-9ce2ea49fe17",
   "metadata": {
    "tags": []
   },
   "outputs": [],
   "source": [
    "df_final['is_holiday'] = is_holiday"
   ]
  },
  {
   "cell_type": "code",
   "execution_count": 314,
   "id": "4145ffd0-4ff8-4077-8946-c88b5e454c3a",
   "metadata": {
    "tags": []
   },
   "outputs": [],
   "source": [
    "df_final.to_pickle('../00_Data/data_full_with_holiday.pkl')"
   ]
  }
 ],
 "metadata": {
  "kernelspec": {
   "display_name": "Python 3 (ipykernel)",
   "language": "python",
   "name": "python3"
  },
  "language_info": {
   "codemirror_mode": {
    "name": "ipython",
    "version": 3
   },
   "file_extension": ".py",
   "mimetype": "text/x-python",
   "name": "python",
   "nbconvert_exporter": "python",
   "pygments_lexer": "ipython3",
   "version": "3.11.6"
  }
 },
 "nbformat": 4,
 "nbformat_minor": 5
}
